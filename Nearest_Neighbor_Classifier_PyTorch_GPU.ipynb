{
  "nbformat": 4,
  "nbformat_minor": 0,
  "metadata": {
    "colab": {
      "provenance": []
    },
    "kernelspec": {
      "name": "python3",
      "display_name": "Python 3"
    },
    "language_info": {
      "name": "python"
    },
    "accelerator": "GPU",
    "gpuClass": "standard"
  },
  "cells": [
    {
      "cell_type": "markdown",
      "source": [
        "## Import Important Libraries"
      ],
      "metadata": {
        "id": "JTspYMf6pOv8"
      }
    },
    {
      "cell_type": "code",
      "execution_count": 20,
      "metadata": {
        "id": "kdau9BuZADqd"
      },
      "outputs": [],
      "source": [
        "import torch\n",
        "import torchvision\n",
        "from torchvision import transforms"
      ]
    },
    {
      "cell_type": "markdown",
      "source": [
        "## Write class for Nearest Neighbor Classification Algorithm"
      ],
      "metadata": {
        "id": "fNhZVFmOpXoR"
      }
    },
    {
      "cell_type": "code",
      "source": [
        "class NearestNeighbor(object):\n",
        "  def __init__(self):\n",
        "    pass\n",
        "  \n",
        "  def train(self, x, y):\n",
        "    self.x_train = x\n",
        "    self.y_train = y\n",
        "\n",
        "  def predict(self, x):\n",
        "    # get the batchsize\n",
        "    b = x.shape[0]\n",
        "    # build an array of zeros with sape same as number of samples in testing data\n",
        "    # and put it on cuda (if available)\n",
        "    y_pred = torch.zeros(b, dtype=self.y_train.dtype).to(device)\n",
        "    # Go through each image sample in training data and calculate L1 distance\n",
        "    # between that single image from testing set and all images from the training set\n",
        "    for i in range(b):\n",
        "      # calculating distances\n",
        "      distances = torch.sum(torch.abs(self.x_train - x[i, :]), axis=1)\n",
        "      # get the nearest image i.e minimun distance\n",
        "      min_idx = torch.argmin(distances)\n",
        "      # save the prediction\n",
        "      y_pred[i] = self.y_train[min_idx]\n",
        "    return y_pred"
      ],
      "metadata": {
        "id": "cBzBBNwuNNEY"
      },
      "execution_count": 21,
      "outputs": []
    },
    {
      "cell_type": "markdown",
      "source": [
        "## Download dataset, apply transforms, and build a dataloader"
      ],
      "metadata": {
        "id": "F9drR2_5pe5s"
      }
    },
    {
      "cell_type": "code",
      "source": [
        "# originally images from torchvision datasets will be PILLOW images\n",
        "# so we use transforms to convert it into tensor\n",
        "ds_transforms = transforms.Compose([\n",
        "    transforms.ToTensor()\n",
        "])\n",
        "# Check if the cuda is available then use it\n",
        "device = torch.device('cuda' if torch.cuda.is_available() else 'cpu')\n",
        "print(f'Using: {device}')\n",
        "\n",
        "train_set = torchvision.datasets.CIFAR10(root='./data', train=True, download=True, transform=ds_transforms,)\n",
        "test_set = torchvision.datasets.CIFAR10(root='./data', train=False, download=True, transform=ds_transforms)\n",
        "train_bs = len(train_set)\n",
        "test_bs = len(test_set)\n",
        "\n",
        "# Build dataloaders\n",
        "train_loader = torch.utils.data.DataLoader(train_set, batch_size=train_bs, shuffle=True)\n",
        "test_loader = torch.utils.data.DataLoader(test_set, batch_size=test_bs, shuffle=False)"
      ],
      "metadata": {
        "colab": {
          "base_uri": "https://localhost:8080/"
        },
        "id": "Nbi9QQqyNuDW",
        "outputId": "9230f8c6-99f3-4d22-ca62-932d8853231c"
      },
      "execution_count": 22,
      "outputs": [
        {
          "output_type": "stream",
          "name": "stdout",
          "text": [
            "Using: cuda\n",
            "Files already downloaded and verified\n",
            "Files already downloaded and verified\n"
          ]
        }
      ]
    },
    {
      "cell_type": "markdown",
      "source": [
        "## Extract data from the dataloader as single batch\n",
        "then reshape it, and move it to gpu device"
      ],
      "metadata": {
        "id": "Nj1hVxIZpp6C"
      }
    },
    {
      "cell_type": "code",
      "source": [
        "# because our batch size is same is total length of the dataset\n",
        "# we just use next(iter(loader)) to get the first batch which in this case will load all training examples\n",
        "train_data, train_labels = next(iter(train_loader))\n",
        "# reshape the data in (b, 3*32*32) and then put it on available device (cuda or cpu)\n",
        "train_data, train_labels = train_data.reshape(train_data.shape[0], -1).to(device), train_labels.reshape(train_labels.shape[0], -1).to(device)"
      ],
      "metadata": {
        "id": "CyvYg5dePMq_"
      },
      "execution_count": 23,
      "outputs": []
    },
    {
      "cell_type": "code",
      "source": [
        "train_data.shape"
      ],
      "metadata": {
        "colab": {
          "base_uri": "https://localhost:8080/"
        },
        "id": "IWTyhArPQXhB",
        "outputId": "5ecb4611-9f88-41d9-b4a3-3b391504e476"
      },
      "execution_count": 24,
      "outputs": [
        {
          "output_type": "execute_result",
          "data": {
            "text/plain": [
              "torch.Size([50000, 3072])"
            ]
          },
          "metadata": {},
          "execution_count": 24
        }
      ]
    },
    {
      "cell_type": "code",
      "source": [
        "test_data, test_labels = next(iter(test_loader))\n",
        "test_data, test_labels = test_data.reshape(test_data.shape[0], -1).to(device), test_labels.reshape(test_data.shape[0], -1).to(device)"
      ],
      "metadata": {
        "id": "1cJvvIgiSr2D"
      },
      "execution_count": 25,
      "outputs": []
    },
    {
      "cell_type": "code",
      "source": [
        "test_data.shape"
      ],
      "metadata": {
        "colab": {
          "base_uri": "https://localhost:8080/"
        },
        "id": "HywJK-VVTZFh",
        "outputId": "57d934f5-f3b9-485f-e5c8-fbd9258b337a"
      },
      "execution_count": 26,
      "outputs": [
        {
          "output_type": "execute_result",
          "data": {
            "text/plain": [
              "torch.Size([10000, 3072])"
            ]
          },
          "metadata": {},
          "execution_count": 26
        }
      ]
    },
    {
      "cell_type": "markdown",
      "source": [
        "## Train nearest neighbor algorithm\n",
        "Here we are just storing the training data and not performing any real-training.\n",
        "\n",
        "Then predict the labels for testing dataset. This involves calculating L1 distances between each pair of testing dataset against all images in training set"
      ],
      "metadata": {
        "id": "p8MRREHxp19W"
      }
    },
    {
      "cell_type": "code",
      "source": [
        "# create an instance of our NearestNeighbor() class \n",
        "nn = NearestNeighbor()\n",
        "# Feed Training data (it will just save it in the memory and do nothing)\n",
        "nn.train(train_data, train_labels)\n",
        "# go through every testing sample and calcualte distances between that sample and all the training images\n",
        "y_pred = nn.predict(test_data)\n"
      ],
      "metadata": {
        "id": "2peGIWehTarn"
      },
      "execution_count": 27,
      "outputs": []
    },
    {
      "cell_type": "code",
      "source": [
        "test_labels.shape, y_pred.shape"
      ],
      "metadata": {
        "colab": {
          "base_uri": "https://localhost:8080/"
        },
        "id": "EtMG_xpahkvw",
        "outputId": "85881233-1850-4646-938b-ac852da5db21"
      },
      "execution_count": 61,
      "outputs": [
        {
          "output_type": "execute_result",
          "data": {
            "text/plain": [
              "(torch.Size([10000, 1]), torch.Size([10000]))"
            ]
          },
          "metadata": {},
          "execution_count": 61
        }
      ]
    },
    {
      "cell_type": "markdown",
      "source": [
        "## Unsqueese predicted labels for getting results"
      ],
      "metadata": {
        "id": "Im7jieVmqQ0M"
      }
    },
    {
      "cell_type": "code",
      "source": [
        "y_pred_reshaped = y_pred.unsqueeze(1)"
      ],
      "metadata": {
        "id": "kRQURH2NkVKh"
      },
      "execution_count": 64,
      "outputs": []
    },
    {
      "cell_type": "code",
      "source": [
        "y_pred_reshaped.shape"
      ],
      "metadata": {
        "colab": {
          "base_uri": "https://localhost:8080/"
        },
        "id": "mYXqyQE8mO3V",
        "outputId": "17725741-8516-4a1b-fd5d-bdbf1fce50a7"
      },
      "execution_count": 65,
      "outputs": [
        {
          "output_type": "execute_result",
          "data": {
            "text/plain": [
              "torch.Size([10000, 1])"
            ]
          },
          "metadata": {},
          "execution_count": 65
        }
      ]
    },
    {
      "cell_type": "markdown",
      "source": [
        "# Calculate accuracy percentage"
      ],
      "metadata": {
        "id": "3qXc8AIdqWwc"
      }
    },
    {
      "cell_type": "code",
      "source": [
        "# get results in a human readible format\n",
        "# y_pred_reshaped == test_labels will produce a boolean array of which predicted labels match\n",
        "# to those of original labels\n",
        "# .sum will get sum of all True boolean values\n",
        "# .item() just extacts value of a tensor\n",
        "result = (y_pred_reshaped == test_labels).sum().item()"
      ],
      "metadata": {
        "id": "BzN6l9RPkiBy"
      },
      "execution_count": 72,
      "outputs": []
    },
    {
      "cell_type": "code",
      "source": [
        "print(f'Accuracy: {(result / test_labels.shape[0]) * 100}')"
      ],
      "metadata": {
        "colab": {
          "base_uri": "https://localhost:8080/"
        },
        "id": "2Sg-5vfGiV36",
        "outputId": "cd65eacf-9a3f-496a-9b10-4a20b0a8c952"
      },
      "execution_count": 74,
      "outputs": [
        {
          "output_type": "stream",
          "name": "stdout",
          "text": [
            "Accuracy: 38.59\n"
          ]
        }
      ]
    },
    {
      "cell_type": "code",
      "source": [],
      "metadata": {
        "id": "mdS29gPFl1AW"
      },
      "execution_count": null,
      "outputs": []
    }
  ]
}