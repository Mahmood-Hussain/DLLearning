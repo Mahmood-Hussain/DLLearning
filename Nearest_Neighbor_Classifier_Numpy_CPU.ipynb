{
  "cells": [
    {
      "cell_type": "code",
      "execution_count": 1,
      "metadata": {
        "id": "kdau9BuZADqd"
      },
      "outputs": [
        {
          "name": "stderr",
          "output_type": "stream",
          "text": [
            "/home/mahmood/anaconda3/envs/torchlatest/lib/python3.10/site-packages/tqdm/auto.py:22: TqdmWarning: IProgress not found. Please update jupyter and ipywidgets. See https://ipywidgets.readthedocs.io/en/stable/user_install.html\n",
            "  from .autonotebook import tqdm as notebook_tqdm\n"
          ]
        }
      ],
      "source": [
        "import torch\n",
        "import torchvision\n",
        "from torchvision import transforms\n",
        "import numpy as np\n"
      ]
    },
    {
      "cell_type": "code",
      "execution_count": 2,
      "metadata": {
        "id": "cBzBBNwuNNEY"
      },
      "outputs": [],
      "source": [
        "class NearestNeighbor(object):\n",
        "  def __init__(self):\n",
        "    pass\n",
        "  \n",
        "  def train(self, x, y):\n",
        "    self.x_train = x\n",
        "    self.y_train = y\n",
        "\n",
        "  def predict(self, x):\n",
        "    b = x.shape[0]\n",
        "    y_pred = np.zeros(b, dtype=self.y_train.dtype)\n",
        "    for i in range(b):\n",
        "      distances = np.sum(np.abs(self.x_train - x[i, :]), axis=1)\n",
        "      min_idx = np.argmin(distances)\n",
        "      y_pred[i] = self.y_train[min_idx]\n",
        "    return y_pred"
      ]
    },
    {
      "cell_type": "code",
      "execution_count": 3,
      "metadata": {
        "colab": {
          "base_uri": "https://localhost:8080/"
        },
        "id": "Nbi9QQqyNuDW",
        "outputId": "ab2ad90c-ad38-4084-b881-242ee8c194d7"
      },
      "outputs": [
        {
          "name": "stdout",
          "output_type": "stream",
          "text": [
            "Downloading https://www.cs.toronto.edu/~kriz/cifar-10-python.tar.gz to ./data/cifar-10-python.tar.gz\n"
          ]
        },
        {
          "name": "stderr",
          "output_type": "stream",
          "text": [
            "100%|██████████| 170498071/170498071 [01:21<00:00, 2091554.07it/s]\n"
          ]
        },
        {
          "name": "stdout",
          "output_type": "stream",
          "text": [
            "Extracting ./data/cifar-10-python.tar.gz to ./data\n",
            "Files already downloaded and verified\n"
          ]
        }
      ],
      "source": [
        "ds_transforms = transforms.Compose([\n",
        "    transforms.ToTensor()\n",
        "])\n",
        "\n",
        "train_set = torchvision.datasets.CIFAR10(root='./data', train=True, download=True, transform=ds_transforms,)\n",
        "test_set = torchvision.datasets.CIFAR10(root='./data', train=False, download=True, transform=ds_transforms)\n",
        "train_bs = len(train_set)\n",
        "test_bs = len(test_set)\n",
        "\n",
        "train_loader = torch.utils.data.DataLoader(train_set, batch_size=train_bs, shuffle=True)\n",
        "test_loader = torch.utils.data.DataLoader(test_set, batch_size=test_bs, shuffle=False)"
      ]
    },
    {
      "cell_type": "code",
      "execution_count": 4,
      "metadata": {
        "id": "CyvYg5dePMq_"
      },
      "outputs": [],
      "source": [
        "train_data, train_labels = next(iter(train_loader))\n",
        "train_data, train_labels = train_data.numpy().reshape(train_data.shape[0], -1), train_labels.numpy().reshape(train_labels.shape[0], -1)"
      ]
    },
    {
      "cell_type": "code",
      "execution_count": 5,
      "metadata": {
        "colab": {
          "base_uri": "https://localhost:8080/"
        },
        "id": "IWTyhArPQXhB",
        "outputId": "d355c150-30e4-4a3d-d25c-03aca12d5464"
      },
      "outputs": [
        {
          "data": {
            "text/plain": [
              "(50000, 3072)"
            ]
          },
          "execution_count": 5,
          "metadata": {},
          "output_type": "execute_result"
        }
      ],
      "source": [
        "train_data.shape"
      ]
    },
    {
      "cell_type": "code",
      "execution_count": 6,
      "metadata": {
        "id": "1cJvvIgiSr2D"
      },
      "outputs": [],
      "source": [
        "test_data, test_labels = next(iter(test_loader))\n",
        "test_data, test_labels = test_data.numpy().reshape(test_data.shape[0], -1), test_labels.numpy().reshape(test_data.shape[0], -1)"
      ]
    },
    {
      "cell_type": "code",
      "execution_count": 7,
      "metadata": {
        "colab": {
          "base_uri": "https://localhost:8080/"
        },
        "id": "HywJK-VVTZFh",
        "outputId": "1d1e652f-e41c-4756-b56a-f7a469865a9a"
      },
      "outputs": [
        {
          "data": {
            "text/plain": [
              "(10000, 3072)"
            ]
          },
          "execution_count": 7,
          "metadata": {},
          "output_type": "execute_result"
        }
      ],
      "source": [
        "test_data.shape"
      ]
    },
    {
      "cell_type": "code",
      "execution_count": 8,
      "metadata": {
        "id": "2peGIWehTarn"
      },
      "outputs": [
        {
          "name": "stdout",
          "output_type": "stream",
          "text": [
            "Accuracy: 0.1\n"
          ]
        }
      ],
      "source": [
        "nn = NearestNeighbor()\n",
        "nn.train(train_data, train_labels)\n",
        "y_pred = nn.predict(test_data)\n",
        "\n"
      ]
    },
    {
      "cell_type": "code",
      "execution_count": 9,
      "metadata": {
        "id": "GnwsT5DRT7IJ"
      },
      "outputs": [
        {
          "data": {
            "text/plain": [
              "(10000,)"
            ]
          },
          "execution_count": 9,
          "metadata": {},
          "output_type": "execute_result"
        }
      ],
      "source": [
        "y_pred.shape"
      ]
    },
    {
      "cell_type": "code",
      "execution_count": 10,
      "metadata": {},
      "outputs": [
        {
          "data": {
            "text/plain": [
              "(10000, 1)"
            ]
          },
          "execution_count": 10,
          "metadata": {},
          "output_type": "execute_result"
        }
      ],
      "source": [
        "test_labels.shape"
      ]
    },
    {
      "cell_type": "code",
      "execution_count": 15,
      "metadata": {},
      "outputs": [
        {
          "name": "stdout",
          "output_type": "stream",
          "text": [
            "Accuracy: 38.59%\n"
          ]
        }
      ],
      "source": [
        "print(f'Accuracy: {np.mean(y_pred == test_labels.squeeze()) * 100}%')"
      ]
    },
    {
      "cell_type": "code",
      "execution_count": null,
      "metadata": {},
      "outputs": [],
      "source": []
    }
  ],
  "metadata": {
    "colab": {
      "provenance": []
    },
    "kernelspec": {
      "display_name": "torchlatest",
      "language": "python",
      "name": "python3"
    },
    "language_info": {
      "codemirror_mode": {
        "name": "ipython",
        "version": 3
      },
      "file_extension": ".py",
      "mimetype": "text/x-python",
      "name": "python",
      "nbconvert_exporter": "python",
      "pygments_lexer": "ipython3",
      "version": "3.10.4"
    },
    "vscode": {
      "interpreter": {
        "hash": "dc88dcb4ed0d43e884fbb0bce9d6d6240bde28153adf4fb579baaec5e32bdd37"
      }
    }
  },
  "nbformat": 4,
  "nbformat_minor": 0
}
